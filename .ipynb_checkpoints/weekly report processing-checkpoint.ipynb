{
 "cells": [
  {
   "cell_type": "code",
   "execution_count": 264,
   "id": "5171dce3",
   "metadata": {
    "scrolled": true
   },
   "outputs": [
    {
     "name": "stdout",
     "output_type": "stream",
     "text": [
      "Requirement already satisfied: openpyxl in /Users/uginpo/anaconda3/lib/python3.10/site-packages (3.1.2)\r\n",
      "Requirement already satisfied: et-xmlfile in /Users/uginpo/anaconda3/lib/python3.10/site-packages (from openpyxl) (1.1.0)\r\n"
     ]
    }
   ],
   "source": [
    "!pip install openpyxl"
   ]
  },
  {
   "cell_type": "code",
   "execution_count": 302,
   "id": "9165517a",
   "metadata": {},
   "outputs": [],
   "source": [
    "import pandas as pd\n",
    "import numpy as np\n",
    "import openpyxl\n",
    "import xlsxwriter\n",
    "import os.path"
   ]
  },
  {
   "cell_type": "markdown",
   "id": "8d962510",
   "metadata": {},
   "source": [
    "Настройка форматов отображения данный"
   ]
  },
  {
   "cell_type": "code",
   "execution_count": 266,
   "id": "1d690374",
   "metadata": {},
   "outputs": [],
   "source": [
    "pd.set_option('display.float_format', '{:.2f}'.format)"
   ]
  },
  {
   "cell_type": "markdown",
   "id": "0242715f",
   "metadata": {},
   "source": [
    "Определение переменных"
   ]
  },
  {
   "cell_type": "code",
   "execution_count": 308,
   "id": "37a656eb",
   "metadata": {},
   "outputs": [],
   "source": [
    "path_to_data= f'/Users/uginpo/OneDrive - gxog/Отчеты ВБ/ООО Исток/Сведенные/2021/'\n",
    "name__otchet= \"31971112.xlsx\" # файл отчета ВБ\n",
    "name__price= \"Закупка.xlsx\"    # файл закупочных цен для расчета прибыли\n",
    "name__list_otchet= \"Отчеты.xlsx\" # список отчетов с доп. информацией - хранение и пр.\n",
    "\n",
    "\n",
    "name__analitic='Аналитика.xlsx'\n",
    "\n",
    "name_price = path_to_data + name__price\n",
    "name_list_otchet = path_to_data + name__list_otchet\n",
    "name_analitic = path_to_data + name__analitic"
   ]
  },
  {
   "cell_type": "code",
   "execution_count": 316,
   "id": "72c32621",
   "metadata": {},
   "outputs": [],
   "source": [
    "if os.path.isfile(name_analitic):\n",
    "    df_analitic = pd.read_excel(name_analitic, sheet_name = [0,1], header=0)\n",
    "else:\n",
    "    df_analitic = False"
   ]
  },
  {
   "cell_type": "markdown",
   "id": "9e05cdff",
   "metadata": {},
   "source": [
    "Открытие списка отчетов"
   ]
  },
  {
   "cell_type": "code",
   "execution_count": 268,
   "id": "88a9a9a1",
   "metadata": {},
   "outputs": [],
   "source": [
    "df_list_otchet = pd.read_excel(name_list_otchet, header=0)   # список отчетов"
   ]
  },
  {
   "cell_type": "code",
   "execution_count": 269,
   "id": "e3f9fb3f",
   "metadata": {},
   "outputs": [
    {
     "data": {
      "text/html": [
       "<div>\n",
       "<style scoped>\n",
       "    .dataframe tbody tr th:only-of-type {\n",
       "        vertical-align: middle;\n",
       "    }\n",
       "\n",
       "    .dataframe tbody tr th {\n",
       "        vertical-align: top;\n",
       "    }\n",
       "\n",
       "    .dataframe thead th {\n",
       "        text-align: right;\n",
       "    }\n",
       "</style>\n",
       "<table border=\"1\" class=\"dataframe\">\n",
       "  <thead>\n",
       "    <tr style=\"text-align: right;\">\n",
       "      <th></th>\n",
       "      <th>Отчет</th>\n",
       "      <th>Дата начала</th>\n",
       "      <th>Дата окончания</th>\n",
       "      <th>Хранение</th>\n",
       "      <th>Удержания</th>\n",
       "    </tr>\n",
       "  </thead>\n",
       "  <tbody>\n",
       "    <tr>\n",
       "      <th>0</th>\n",
       "      <td>5870185</td>\n",
       "      <td>2021-12-06</td>\n",
       "      <td>2021-12-12</td>\n",
       "      <td>23.82</td>\n",
       "      <td>0.00</td>\n",
       "    </tr>\n",
       "    <tr>\n",
       "      <th>1</th>\n",
       "      <td>5347348</td>\n",
       "      <td>2021-11-08</td>\n",
       "      <td>2021-11-14</td>\n",
       "      <td>20.25</td>\n",
       "      <td>32.76</td>\n",
       "    </tr>\n",
       "    <tr>\n",
       "      <th>2</th>\n",
       "      <td>6011036</td>\n",
       "      <td>2021-12-13</td>\n",
       "      <td>2021-12-19</td>\n",
       "      <td>19.46</td>\n",
       "      <td>2000.00</td>\n",
       "    </tr>\n",
       "    <tr>\n",
       "      <th>3</th>\n",
       "      <td>5466839</td>\n",
       "      <td>2021-11-15</td>\n",
       "      <td>2021-11-21</td>\n",
       "      <td>37.57</td>\n",
       "      <td>453.26</td>\n",
       "    </tr>\n",
       "    <tr>\n",
       "      <th>4</th>\n",
       "      <td>6156998</td>\n",
       "      <td>2021-12-20</td>\n",
       "      <td>2021-12-26</td>\n",
       "      <td>18.87</td>\n",
       "      <td>127.68</td>\n",
       "    </tr>\n",
       "    <tr>\n",
       "      <th>5</th>\n",
       "      <td>5592197</td>\n",
       "      <td>2021-11-22</td>\n",
       "      <td>2021-11-28</td>\n",
       "      <td>33.43</td>\n",
       "      <td>0.00</td>\n",
       "    </tr>\n",
       "    <tr>\n",
       "      <th>6</th>\n",
       "      <td>5745350</td>\n",
       "      <td>2021-11-29</td>\n",
       "      <td>2021-12-05</td>\n",
       "      <td>28.46</td>\n",
       "      <td>0.00</td>\n",
       "    </tr>\n",
       "    <tr>\n",
       "      <th>7</th>\n",
       "      <td>6544354</td>\n",
       "      <td>2021-12-29</td>\n",
       "      <td>2022-01-02</td>\n",
       "      <td>19.95</td>\n",
       "      <td>0.00</td>\n",
       "    </tr>\n",
       "  </tbody>\n",
       "</table>\n",
       "</div>"
      ],
      "text/plain": [
       "     Отчет Дата начала Дата окончания  Хранение  Удержания\n",
       "0  5870185  2021-12-06     2021-12-12     23.82       0.00\n",
       "1  5347348  2021-11-08     2021-11-14     20.25      32.76\n",
       "2  6011036  2021-12-13     2021-12-19     19.46    2000.00\n",
       "3  5466839  2021-11-15     2021-11-21     37.57     453.26\n",
       "4  6156998  2021-12-20     2021-12-26     18.87     127.68\n",
       "5  5592197  2021-11-22     2021-11-28     33.43       0.00\n",
       "6  5745350  2021-11-29     2021-12-05     28.46       0.00\n",
       "7  6544354  2021-12-29     2022-01-02     19.95       0.00"
      ]
     },
     "execution_count": 269,
     "metadata": {},
     "output_type": "execute_result"
    }
   ],
   "source": [
    "df_list_otchet"
   ]
  },
  {
   "cell_type": "code",
   "execution_count": 270,
   "id": "15fe0363",
   "metadata": {},
   "outputs": [],
   "source": [
    "df_price=pd.read_excel(name_price, header=0) # pricelist закупочных цен"
   ]
  },
  {
   "cell_type": "markdown",
   "id": "d33f4a84",
   "metadata": {},
   "source": [
    "Открытие прайслиста"
   ]
  },
  {
   "cell_type": "markdown",
   "id": "d9d50070",
   "metadata": {},
   "source": [
    "Необходимые колонки из отчета"
   ]
  },
  {
   "cell_type": "code",
   "execution_count": 271,
   "id": "836ca49f",
   "metadata": {},
   "outputs": [],
   "source": [
    "my_headers=['Артикул поставщика','Название', 'Кол-во', 'Вайлдберриз реализовал Товар (Пр)',\n",
    "            'Возмещение за выдачу и возврат товаров на ПВЗ', 'Возмещение издержек по эквайрингу',\n",
    "           'Вознаграждение Вайлдберриз (ВВ), без НДС', 'НДС с Вознаграждения Вайлдберриз',\n",
    "           'К перечислению Продавцу за реализованный Товар','Количество доставок','Количество возврата',\n",
    "            'Услуги по доставке товара покупателю', 'Общая сумма штрафов']"
   ]
  },
  {
   "cell_type": "markdown",
   "id": "1d479655",
   "metadata": {},
   "source": [
    "Цикл по недельным отчетам"
   ]
  },
  {
   "cell_type": "code",
   "execution_count": 272,
   "id": "d29ff300",
   "metadata": {},
   "outputs": [],
   "source": [
    "for i in range(1):    #df_list_otchet.shape[0]\n",
    "    df_otchet=df_list_otchet.iloc[i,[0,1,3,4]]"
   ]
  },
  {
   "cell_type": "code",
   "execution_count": 273,
   "id": "e4f5d7be",
   "metadata": {},
   "outputs": [],
   "source": [
    "name_otchet = path_to_data+str(df_otchet['Отчет'])+'.xlsx'"
   ]
  },
  {
   "cell_type": "code",
   "execution_count": 274,
   "id": "8acff80d",
   "metadata": {
    "scrolled": true
   },
   "outputs": [],
   "source": [
    "df=pd.read_excel(name_otchet, header=0)      # недельный отчет ВБ\n",
    "df=df.loc[:,my_headers]"
   ]
  },
  {
   "cell_type": "code",
   "execution_count": 275,
   "id": "41425c8e",
   "metadata": {},
   "outputs": [],
   "source": [
    "df['Вознаграждение ВБ']=df[my_headers[4:8]]. sum(axis=1)\n",
    "df['Очищенная выручка']=df['К перечислению Продавцу за реализованный Товар']-df['Услуги по доставке товара покупателю']\n"
   ]
  },
  {
   "cell_type": "code",
   "execution_count": 276,
   "id": "40f724ae",
   "metadata": {},
   "outputs": [],
   "source": [
    "new_headers=['Артикул поставщика','Название','Кол-во','Количество доставок','Количество возврата',\n",
    "           'Вайлдберриз реализовал Товар (Пр)',\n",
    "            'Вознаграждение ВБ','Услуги по доставке товара покупателю',\n",
    "            'Очищенная выручка']"
   ]
  },
  {
   "cell_type": "code",
   "execution_count": 277,
   "id": "be9f293d",
   "metadata": {},
   "outputs": [],
   "source": [
    "df=df.loc[:,new_headers]"
   ]
  },
  {
   "cell_type": "code",
   "execution_count": 278,
   "id": "a0ca0394",
   "metadata": {},
   "outputs": [],
   "source": [
    "final_column_list=['Артикул поставщика','Название' ,'Кол-во', 'Кол-во доставок', 'Кол-во возврата',\n",
    "       'Реализация ВБ', 'Вознаграждение ВБ',\n",
    "       'Логистика',\n",
    "       'Очищенная выручка']\n",
    "df.columns = final_column_list\n"
   ]
  },
  {
   "cell_type": "code",
   "execution_count": 279,
   "id": "327e6894",
   "metadata": {},
   "outputs": [],
   "source": [
    "df=df.groupby(['Артикул поставщика', 'Название'])[final_column_list[2:]].sum().reset_index()\n"
   ]
  },
  {
   "cell_type": "code",
   "execution_count": 280,
   "id": "32991328",
   "metadata": {},
   "outputs": [],
   "source": [
    "df_f=df.copy(deep=True)"
   ]
  },
  {
   "cell_type": "code",
   "execution_count": 281,
   "id": "e5955037",
   "metadata": {},
   "outputs": [],
   "source": [
    "list_to_add=['Отчет','Дата начала']"
   ]
  },
  {
   "cell_type": "code",
   "execution_count": 282,
   "id": "1cb80104",
   "metadata": {},
   "outputs": [],
   "source": [
    "df_f[list_to_add]=df_otchet.loc[list_to_add]"
   ]
  },
  {
   "cell_type": "code",
   "execution_count": 283,
   "id": "8b1d489c",
   "metadata": {},
   "outputs": [],
   "source": [
    "list_to_add=['Сумма закупки','Доход', 'Доход на единицу','Доходность (%)']"
   ]
  },
  {
   "cell_type": "code",
   "execution_count": 284,
   "id": "25d36179",
   "metadata": {},
   "outputs": [],
   "source": [
    "df_f[list_to_add]=0"
   ]
  },
  {
   "cell_type": "code",
   "execution_count": 285,
   "id": "0a62c12a",
   "metadata": {},
   "outputs": [],
   "source": [
    "df_f = pd.merge(df_f, df_price)"
   ]
  },
  {
   "cell_type": "code",
   "execution_count": 286,
   "id": "d66d4245",
   "metadata": {},
   "outputs": [],
   "source": [
    "final_headers=['Отчет', 'Дата начала','Артикул поставщика', 'Название', 'Кол-во', 'Кол-во доставок',\n",
    "       'Кол-во возврата', 'Реализация ВБ', 'Вознаграждение ВБ', 'Логистика',\n",
    "       'Очищенная выручка','Закупочная цена', 'Сумма закупки', 'Доход', 'Доход на единицу', 'Доходность (%)']"
   ]
  },
  {
   "cell_type": "code",
   "execution_count": 287,
   "id": "6f873dc3",
   "metadata": {},
   "outputs": [],
   "source": [
    "df_f=df_f.loc[:,final_headers]"
   ]
  },
  {
   "cell_type": "code",
   "execution_count": 288,
   "id": "e6b64434",
   "metadata": {},
   "outputs": [],
   "source": [
    "df_f['Сумма закупки']= df_f['Кол-во']*df_f['Закупочная цена']\n",
    "df_f['Доход'] = df_f['Очищенная выручка'] - df_f['Сумма закупки']\n",
    "df_f['Доход на единицу'] = df_f['Доход'] / df_f['Кол-во']\n",
    "df_f['Доходность (%)'] = (df_f['Доход'] * 100) / df_f['Очищенная выручка']"
   ]
  },
  {
   "cell_type": "markdown",
   "id": "8b1073de",
   "metadata": {},
   "source": [
    "Отчет по продажам сформирован"
   ]
  },
  {
   "cell_type": "markdown",
   "id": "9ff9e069",
   "metadata": {},
   "source": [
    "Формирование отчета по прибылям и убыткам"
   ]
  },
  {
   "cell_type": "code",
   "execution_count": 289,
   "id": "5dc0e0f5",
   "metadata": {
    "scrolled": true
   },
   "outputs": [],
   "source": [
    "list_profit_lost=['Отчет', 'Дата начала', 'Кол-во', 'Сумма закупки','Логистика', \n",
    "                  'Хранение', 'Удержания','Очищенная выручка', 'Доход', 'Доходность (%)']                       "
   ]
  },
  {
   "cell_type": "code",
   "execution_count": 290,
   "id": "fa64b069",
   "metadata": {},
   "outputs": [],
   "source": [
    "df_pr_lost = pd.DataFrame(np.zeros(10).reshape(1,10), columns=list_profit_lost)"
   ]
  },
  {
   "cell_type": "markdown",
   "id": "26cdd298",
   "metadata": {},
   "source": [
    "Подсчет итогов (суммирование итогов недельных продаж"
   ]
  },
  {
   "cell_type": "code",
   "execution_count": 291,
   "id": "5b03d253",
   "metadata": {},
   "outputs": [],
   "source": [
    "list_itog=['Кол-во', 'Сумма закупки', 'Логистика', 'Очищенная выручка', 'Доход']\n",
    "        "
   ]
  },
  {
   "cell_type": "code",
   "execution_count": 292,
   "id": "42bd3222",
   "metadata": {},
   "outputs": [],
   "source": [
    "itog=df_f[list_itog].sum()"
   ]
  },
  {
   "cell_type": "code",
   "execution_count": 293,
   "id": "08f86ae4",
   "metadata": {},
   "outputs": [],
   "source": [
    "df_pr_lost[['Отчет','Дата начала']] = df_otchet[['Отчет','Дата начала']]\n",
    "df_pr_lost[list_itog]=itog\n",
    "df_pr_lost[['Хранение', 'Удержания']]=df_otchet[['Хранение', 'Удержания']]"
   ]
  },
  {
   "cell_type": "code",
   "execution_count": 294,
   "id": "04affa38",
   "metadata": {},
   "outputs": [],
   "source": [
    "df_pr_lost['Доход'] = df_pr_lost['Доход'] - df_pr_lost['Хранение'] -df_pr_lost['Удержания']"
   ]
  },
  {
   "cell_type": "code",
   "execution_count": 295,
   "id": "9257abdb",
   "metadata": {},
   "outputs": [],
   "source": [
    "df_pr_lost['Доходность (%)']=(df_pr_lost['Доход']*100) / df_pr_lost['Сумма закупки']"
   ]
  },
  {
   "cell_type": "markdown",
   "id": "40253fd6",
   "metadata": {},
   "source": [
    "Создано два dataframe по недельному отчету df_f and df_pr_lost (отчеты по продажам и прибылям и убыткам)"
   ]
  },
  {
   "cell_type": "code",
   "execution_count": 296,
   "id": "fba502eb",
   "metadata": {},
   "outputs": [
    {
     "data": {
      "text/html": [
       "<div>\n",
       "<style scoped>\n",
       "    .dataframe tbody tr th:only-of-type {\n",
       "        vertical-align: middle;\n",
       "    }\n",
       "\n",
       "    .dataframe tbody tr th {\n",
       "        vertical-align: top;\n",
       "    }\n",
       "\n",
       "    .dataframe thead th {\n",
       "        text-align: right;\n",
       "    }\n",
       "</style>\n",
       "<table border=\"1\" class=\"dataframe\">\n",
       "  <thead>\n",
       "    <tr style=\"text-align: right;\">\n",
       "      <th></th>\n",
       "      <th>Отчет</th>\n",
       "      <th>Дата начала</th>\n",
       "      <th>Артикул поставщика</th>\n",
       "      <th>Название</th>\n",
       "      <th>Кол-во</th>\n",
       "      <th>Кол-во доставок</th>\n",
       "      <th>Кол-во возврата</th>\n",
       "      <th>Реализация ВБ</th>\n",
       "      <th>Вознаграждение ВБ</th>\n",
       "      <th>Логистика</th>\n",
       "      <th>Очищенная выручка</th>\n",
       "      <th>Закупочная цена</th>\n",
       "      <th>Сумма закупки</th>\n",
       "      <th>Доход</th>\n",
       "      <th>Доход на единицу</th>\n",
       "      <th>Доходность (%)</th>\n",
       "    </tr>\n",
       "  </thead>\n",
       "  <tbody>\n",
       "    <tr>\n",
       "      <th>0</th>\n",
       "      <td>5870185</td>\n",
       "      <td>2021-12-06</td>\n",
       "      <td>Мешки/Исток/Зав/30л/30шт/2рул</td>\n",
       "      <td>Мешки для мусора</td>\n",
       "      <td>2</td>\n",
       "      <td>4</td>\n",
       "      <td>0</td>\n",
       "      <td>495.97</td>\n",
       "      <td>36.59</td>\n",
       "      <td>220</td>\n",
       "      <td>239.38</td>\n",
       "      <td>134.74</td>\n",
       "      <td>269.48</td>\n",
       "      <td>-30.10</td>\n",
       "      <td>-15.05</td>\n",
       "      <td>-12.57</td>\n",
       "    </tr>\n",
       "    <tr>\n",
       "      <th>1</th>\n",
       "      <td>5870185</td>\n",
       "      <td>2021-12-06</td>\n",
       "      <td>Мус/Меш/Исток/300л/10шт</td>\n",
       "      <td>Мешки для мусора 300 л/ 10 шт /85 мкм</td>\n",
       "      <td>1</td>\n",
       "      <td>0</td>\n",
       "      <td>0</td>\n",
       "      <td>365.00</td>\n",
       "      <td>36.50</td>\n",
       "      <td>0</td>\n",
       "      <td>328.50</td>\n",
       "      <td>186.56</td>\n",
       "      <td>186.56</td>\n",
       "      <td>141.94</td>\n",
       "      <td>141.94</td>\n",
       "      <td>43.21</td>\n",
       "    </tr>\n",
       "    <tr>\n",
       "      <th>2</th>\n",
       "      <td>5870185</td>\n",
       "      <td>2021-12-06</td>\n",
       "      <td>Мус/Меш/Исток/Зав60L/20шт2рул</td>\n",
       "      <td>Мешки для мусора</td>\n",
       "      <td>1</td>\n",
       "      <td>0</td>\n",
       "      <td>0</td>\n",
       "      <td>238.00</td>\n",
       "      <td>23.80</td>\n",
       "      <td>0</td>\n",
       "      <td>214.20</td>\n",
       "      <td>119.43</td>\n",
       "      <td>119.43</td>\n",
       "      <td>94.77</td>\n",
       "      <td>94.77</td>\n",
       "      <td>44.24</td>\n",
       "    </tr>\n",
       "    <tr>\n",
       "      <th>3</th>\n",
       "      <td>5870185</td>\n",
       "      <td>2021-12-06</td>\n",
       "      <td>Мус/Меш/Исток180л/25шт</td>\n",
       "      <td>Мешки для мусора 180 л. 25 шт. 60 мкм.</td>\n",
       "      <td>1</td>\n",
       "      <td>1</td>\n",
       "      <td>1</td>\n",
       "      <td>384.00</td>\n",
       "      <td>38.40</td>\n",
       "      <td>88</td>\n",
       "      <td>257.60</td>\n",
       "      <td>198.22</td>\n",
       "      <td>198.22</td>\n",
       "      <td>59.38</td>\n",
       "      <td>59.38</td>\n",
       "      <td>23.05</td>\n",
       "    </tr>\n",
       "  </tbody>\n",
       "</table>\n",
       "</div>"
      ],
      "text/plain": [
       "     Отчет Дата начала             Артикул поставщика   \n",
       "0  5870185  2021-12-06  Мешки/Исток/Зав/30л/30шт/2рул  \\\n",
       "1  5870185  2021-12-06        Мус/Меш/Исток/300л/10шт   \n",
       "2  5870185  2021-12-06  Мус/Меш/Исток/Зав60L/20шт2рул   \n",
       "3  5870185  2021-12-06         Мус/Меш/Исток180л/25шт   \n",
       "\n",
       "                                 Название  Кол-во  Кол-во доставок   \n",
       "0                        Мешки для мусора       2                4  \\\n",
       "1   Мешки для мусора 300 л/ 10 шт /85 мкм       1                0   \n",
       "2                        Мешки для мусора       1                0   \n",
       "3  Мешки для мусора 180 л. 25 шт. 60 мкм.       1                1   \n",
       "\n",
       "   Кол-во возврата  Реализация ВБ  Вознаграждение ВБ  Логистика   \n",
       "0                0         495.97              36.59        220  \\\n",
       "1                0         365.00              36.50          0   \n",
       "2                0         238.00              23.80          0   \n",
       "3                1         384.00              38.40         88   \n",
       "\n",
       "   Очищенная выручка  Закупочная цена  Сумма закупки  Доход  Доход на единицу   \n",
       "0             239.38           134.74         269.48 -30.10            -15.05  \\\n",
       "1             328.50           186.56         186.56 141.94            141.94   \n",
       "2             214.20           119.43         119.43  94.77             94.77   \n",
       "3             257.60           198.22         198.22  59.38             59.38   \n",
       "\n",
       "   Доходность (%)  \n",
       "0          -12.57  \n",
       "1           43.21  \n",
       "2           44.24  \n",
       "3           23.05  "
      ]
     },
     "execution_count": 296,
     "metadata": {},
     "output_type": "execute_result"
    }
   ],
   "source": [
    "df_f"
   ]
  },
  {
   "cell_type": "code",
   "execution_count": 297,
   "id": "03b9fa82",
   "metadata": {},
   "outputs": [
    {
     "data": {
      "text/html": [
       "<div>\n",
       "<style scoped>\n",
       "    .dataframe tbody tr th:only-of-type {\n",
       "        vertical-align: middle;\n",
       "    }\n",
       "\n",
       "    .dataframe tbody tr th {\n",
       "        vertical-align: top;\n",
       "    }\n",
       "\n",
       "    .dataframe thead th {\n",
       "        text-align: right;\n",
       "    }\n",
       "</style>\n",
       "<table border=\"1\" class=\"dataframe\">\n",
       "  <thead>\n",
       "    <tr style=\"text-align: right;\">\n",
       "      <th></th>\n",
       "      <th>Отчет</th>\n",
       "      <th>Дата начала</th>\n",
       "      <th>Кол-во</th>\n",
       "      <th>Сумма закупки</th>\n",
       "      <th>Логистика</th>\n",
       "      <th>Хранение</th>\n",
       "      <th>Удержания</th>\n",
       "      <th>Очищенная выручка</th>\n",
       "      <th>Доход</th>\n",
       "      <th>Доходность (%)</th>\n",
       "    </tr>\n",
       "  </thead>\n",
       "  <tbody>\n",
       "    <tr>\n",
       "      <th>0</th>\n",
       "      <td>5870185</td>\n",
       "      <td>2021-12-06</td>\n",
       "      <td>5.00</td>\n",
       "      <td>773.69</td>\n",
       "      <td>308.00</td>\n",
       "      <td>23.82</td>\n",
       "      <td>0.00</td>\n",
       "      <td>1039.68</td>\n",
       "      <td>242.17</td>\n",
       "      <td>31.30</td>\n",
       "    </tr>\n",
       "  </tbody>\n",
       "</table>\n",
       "</div>"
      ],
      "text/plain": [
       "     Отчет Дата начала  Кол-во  Сумма закупки  Логистика  Хранение  Удержания   \n",
       "0  5870185  2021-12-06    5.00         773.69     308.00     23.82       0.00  \\\n",
       "\n",
       "   Очищенная выручка  Доход  Доходность (%)  \n",
       "0            1039.68 242.17           31.30  "
      ]
     },
     "execution_count": 297,
     "metadata": {},
     "output_type": "execute_result"
    }
   ],
   "source": [
    "df_pr_lost"
   ]
  },
  {
   "cell_type": "code",
   "execution_count": 318,
   "id": "3b5e6377",
   "metadata": {},
   "outputs": [],
   "source": [
    "if not df_analitic:\n",
    "    df_analitic=dict()\n",
    "    df_analitic[0]=df_f.copy(deep=True)\n",
    "    df_analitic[1]=df_pr_lost.copy(deep=True)\n",
    "else:\n",
    "    df_analitic[0]=pd.concat([df_analitic[0], df_f], axis=0, ignore_index=True )\n",
    "    df_analitic[1]=pd.concat([df_analitic[1], df_pr_lost], axis=0, ignore_index=True )"
   ]
  },
  {
   "cell_type": "code",
   "execution_count": null,
   "id": "6e439f93",
   "metadata": {},
   "outputs": [],
   "source": []
  }
 ],
 "metadata": {
  "kernelspec": {
   "display_name": "Python 3 (ipykernel)",
   "language": "python",
   "name": "python3"
  },
  "language_info": {
   "codemirror_mode": {
    "name": "ipython",
    "version": 3
   },
   "file_extension": ".py",
   "mimetype": "text/x-python",
   "name": "python",
   "nbconvert_exporter": "python",
   "pygments_lexer": "ipython3",
   "version": "3.10.11"
  }
 },
 "nbformat": 4,
 "nbformat_minor": 5
}
